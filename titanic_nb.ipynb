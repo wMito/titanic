{
 "cells": [
  {
   "cell_type": "code",
   "execution_count": 1,
   "id": "66df5e71-c68c-452c-acca-b84ac20f9245",
   "metadata": {},
   "outputs": [],
   "source": [
    "import numpy as np\n",
    "import pandas as pd\n",
    "import matplotlib.pyplot as plt\n",
    "import keras\n",
    "import tensorflow as tf\n",
    "from tensorflow import keras"
   ]
  },
  {
   "cell_type": "code",
   "execution_count": 2,
   "id": "5ca8c59f-b5e5-426d-83a5-76922b6a2e04",
   "metadata": {},
   "outputs": [
    {
     "data": {
      "text/html": [
       "<div>\n",
       "<style scoped>\n",
       "    .dataframe tbody tr th:only-of-type {\n",
       "        vertical-align: middle;\n",
       "    }\n",
       "\n",
       "    .dataframe tbody tr th {\n",
       "        vertical-align: top;\n",
       "    }\n",
       "\n",
       "    .dataframe thead th {\n",
       "        text-align: right;\n",
       "    }\n",
       "</style>\n",
       "<table border=\"1\" class=\"dataframe\">\n",
       "  <thead>\n",
       "    <tr style=\"text-align: right;\">\n",
       "      <th></th>\n",
       "      <th>PassengerId</th>\n",
       "      <th>Survived</th>\n",
       "      <th>Pclass</th>\n",
       "      <th>Name</th>\n",
       "      <th>Sex</th>\n",
       "      <th>Age</th>\n",
       "      <th>SibSp</th>\n",
       "      <th>Parch</th>\n",
       "      <th>Ticket</th>\n",
       "      <th>Fare</th>\n",
       "      <th>Cabin</th>\n",
       "      <th>Embarked</th>\n",
       "    </tr>\n",
       "  </thead>\n",
       "  <tbody>\n",
       "    <tr>\n",
       "      <th>0</th>\n",
       "      <td>1</td>\n",
       "      <td>0</td>\n",
       "      <td>3</td>\n",
       "      <td>Braund, Mr. Owen Harris</td>\n",
       "      <td>male</td>\n",
       "      <td>22.0</td>\n",
       "      <td>1</td>\n",
       "      <td>0</td>\n",
       "      <td>A/5 21171</td>\n",
       "      <td>7.2500</td>\n",
       "      <td>NaN</td>\n",
       "      <td>S</td>\n",
       "    </tr>\n",
       "    <tr>\n",
       "      <th>1</th>\n",
       "      <td>2</td>\n",
       "      <td>1</td>\n",
       "      <td>1</td>\n",
       "      <td>Cumings, Mrs. John Bradley (Florence Briggs Th...</td>\n",
       "      <td>female</td>\n",
       "      <td>38.0</td>\n",
       "      <td>1</td>\n",
       "      <td>0</td>\n",
       "      <td>PC 17599</td>\n",
       "      <td>71.2833</td>\n",
       "      <td>C85</td>\n",
       "      <td>C</td>\n",
       "    </tr>\n",
       "    <tr>\n",
       "      <th>2</th>\n",
       "      <td>3</td>\n",
       "      <td>1</td>\n",
       "      <td>3</td>\n",
       "      <td>Heikkinen, Miss. Laina</td>\n",
       "      <td>female</td>\n",
       "      <td>26.0</td>\n",
       "      <td>0</td>\n",
       "      <td>0</td>\n",
       "      <td>STON/O2. 3101282</td>\n",
       "      <td>7.9250</td>\n",
       "      <td>NaN</td>\n",
       "      <td>S</td>\n",
       "    </tr>\n",
       "    <tr>\n",
       "      <th>3</th>\n",
       "      <td>4</td>\n",
       "      <td>1</td>\n",
       "      <td>1</td>\n",
       "      <td>Futrelle, Mrs. Jacques Heath (Lily May Peel)</td>\n",
       "      <td>female</td>\n",
       "      <td>35.0</td>\n",
       "      <td>1</td>\n",
       "      <td>0</td>\n",
       "      <td>113803</td>\n",
       "      <td>53.1000</td>\n",
       "      <td>C123</td>\n",
       "      <td>S</td>\n",
       "    </tr>\n",
       "    <tr>\n",
       "      <th>4</th>\n",
       "      <td>5</td>\n",
       "      <td>0</td>\n",
       "      <td>3</td>\n",
       "      <td>Allen, Mr. William Henry</td>\n",
       "      <td>male</td>\n",
       "      <td>35.0</td>\n",
       "      <td>0</td>\n",
       "      <td>0</td>\n",
       "      <td>373450</td>\n",
       "      <td>8.0500</td>\n",
       "      <td>NaN</td>\n",
       "      <td>S</td>\n",
       "    </tr>\n",
       "  </tbody>\n",
       "</table>\n",
       "</div>"
      ],
      "text/plain": [
       "   PassengerId  Survived  Pclass  \\\n",
       "0            1         0       3   \n",
       "1            2         1       1   \n",
       "2            3         1       3   \n",
       "3            4         1       1   \n",
       "4            5         0       3   \n",
       "\n",
       "                                                Name     Sex   Age  SibSp  \\\n",
       "0                            Braund, Mr. Owen Harris    male  22.0      1   \n",
       "1  Cumings, Mrs. John Bradley (Florence Briggs Th...  female  38.0      1   \n",
       "2                             Heikkinen, Miss. Laina  female  26.0      0   \n",
       "3       Futrelle, Mrs. Jacques Heath (Lily May Peel)  female  35.0      1   \n",
       "4                           Allen, Mr. William Henry    male  35.0      0   \n",
       "\n",
       "   Parch            Ticket     Fare Cabin Embarked  \n",
       "0      0         A/5 21171   7.2500   NaN        S  \n",
       "1      0          PC 17599  71.2833   C85        C  \n",
       "2      0  STON/O2. 3101282   7.9250   NaN        S  \n",
       "3      0            113803  53.1000  C123        S  \n",
       "4      0            373450   8.0500   NaN        S  "
      ]
     },
     "execution_count": 2,
     "metadata": {},
     "output_type": "execute_result"
    }
   ],
   "source": [
    "train_df = pd.read_csv('train.csv')\n",
    "train_df.head()"
   ]
  },
  {
   "cell_type": "code",
   "execution_count": 3,
   "id": "7a923160-7c7f-4435-bab3-1935b44dd75e",
   "metadata": {},
   "outputs": [
    {
     "data": {
      "text/plain": [
       "0    549\n",
       "1    342\n",
       "Name: Survived, dtype: int64"
      ]
     },
     "execution_count": 3,
     "metadata": {},
     "output_type": "execute_result"
    }
   ],
   "source": [
    "train_df['Survived'].value_counts()"
   ]
  },
  {
   "cell_type": "code",
   "execution_count": 4,
   "id": "9c576a1e-ecbc-4757-a7b3-17736d6f831a",
   "metadata": {},
   "outputs": [
    {
     "data": {
      "text/html": [
       "<div>\n",
       "<style scoped>\n",
       "    .dataframe tbody tr th:only-of-type {\n",
       "        vertical-align: middle;\n",
       "    }\n",
       "\n",
       "    .dataframe tbody tr th {\n",
       "        vertical-align: top;\n",
       "    }\n",
       "\n",
       "    .dataframe thead th {\n",
       "        text-align: right;\n",
       "    }\n",
       "</style>\n",
       "<table border=\"1\" class=\"dataframe\">\n",
       "  <thead>\n",
       "    <tr style=\"text-align: right;\">\n",
       "      <th></th>\n",
       "      <th>PassengerId</th>\n",
       "      <th>Survived</th>\n",
       "      <th>Pclass</th>\n",
       "      <th>Age</th>\n",
       "      <th>SibSp</th>\n",
       "      <th>Parch</th>\n",
       "      <th>Fare</th>\n",
       "    </tr>\n",
       "  </thead>\n",
       "  <tbody>\n",
       "    <tr>\n",
       "      <th>count</th>\n",
       "      <td>891.000000</td>\n",
       "      <td>891.000000</td>\n",
       "      <td>891.000000</td>\n",
       "      <td>714.000000</td>\n",
       "      <td>891.000000</td>\n",
       "      <td>891.000000</td>\n",
       "      <td>891.000000</td>\n",
       "    </tr>\n",
       "    <tr>\n",
       "      <th>mean</th>\n",
       "      <td>446.000000</td>\n",
       "      <td>0.383838</td>\n",
       "      <td>2.308642</td>\n",
       "      <td>29.699118</td>\n",
       "      <td>0.523008</td>\n",
       "      <td>0.381594</td>\n",
       "      <td>32.204208</td>\n",
       "    </tr>\n",
       "    <tr>\n",
       "      <th>std</th>\n",
       "      <td>257.353842</td>\n",
       "      <td>0.486592</td>\n",
       "      <td>0.836071</td>\n",
       "      <td>14.526497</td>\n",
       "      <td>1.102743</td>\n",
       "      <td>0.806057</td>\n",
       "      <td>49.693429</td>\n",
       "    </tr>\n",
       "    <tr>\n",
       "      <th>min</th>\n",
       "      <td>1.000000</td>\n",
       "      <td>0.000000</td>\n",
       "      <td>1.000000</td>\n",
       "      <td>0.420000</td>\n",
       "      <td>0.000000</td>\n",
       "      <td>0.000000</td>\n",
       "      <td>0.000000</td>\n",
       "    </tr>\n",
       "    <tr>\n",
       "      <th>25%</th>\n",
       "      <td>223.500000</td>\n",
       "      <td>0.000000</td>\n",
       "      <td>2.000000</td>\n",
       "      <td>20.125000</td>\n",
       "      <td>0.000000</td>\n",
       "      <td>0.000000</td>\n",
       "      <td>7.910400</td>\n",
       "    </tr>\n",
       "    <tr>\n",
       "      <th>50%</th>\n",
       "      <td>446.000000</td>\n",
       "      <td>0.000000</td>\n",
       "      <td>3.000000</td>\n",
       "      <td>28.000000</td>\n",
       "      <td>0.000000</td>\n",
       "      <td>0.000000</td>\n",
       "      <td>14.454200</td>\n",
       "    </tr>\n",
       "    <tr>\n",
       "      <th>75%</th>\n",
       "      <td>668.500000</td>\n",
       "      <td>1.000000</td>\n",
       "      <td>3.000000</td>\n",
       "      <td>38.000000</td>\n",
       "      <td>1.000000</td>\n",
       "      <td>0.000000</td>\n",
       "      <td>31.000000</td>\n",
       "    </tr>\n",
       "    <tr>\n",
       "      <th>max</th>\n",
       "      <td>891.000000</td>\n",
       "      <td>1.000000</td>\n",
       "      <td>3.000000</td>\n",
       "      <td>80.000000</td>\n",
       "      <td>8.000000</td>\n",
       "      <td>6.000000</td>\n",
       "      <td>512.329200</td>\n",
       "    </tr>\n",
       "  </tbody>\n",
       "</table>\n",
       "</div>"
      ],
      "text/plain": [
       "       PassengerId    Survived      Pclass         Age       SibSp  \\\n",
       "count   891.000000  891.000000  891.000000  714.000000  891.000000   \n",
       "mean    446.000000    0.383838    2.308642   29.699118    0.523008   \n",
       "std     257.353842    0.486592    0.836071   14.526497    1.102743   \n",
       "min       1.000000    0.000000    1.000000    0.420000    0.000000   \n",
       "25%     223.500000    0.000000    2.000000   20.125000    0.000000   \n",
       "50%     446.000000    0.000000    3.000000   28.000000    0.000000   \n",
       "75%     668.500000    1.000000    3.000000   38.000000    1.000000   \n",
       "max     891.000000    1.000000    3.000000   80.000000    8.000000   \n",
       "\n",
       "            Parch        Fare  \n",
       "count  891.000000  891.000000  \n",
       "mean     0.381594   32.204208  \n",
       "std      0.806057   49.693429  \n",
       "min      0.000000    0.000000  \n",
       "25%      0.000000    7.910400  \n",
       "50%      0.000000   14.454200  \n",
       "75%      0.000000   31.000000  \n",
       "max      6.000000  512.329200  "
      ]
     },
     "execution_count": 4,
     "metadata": {},
     "output_type": "execute_result"
    }
   ],
   "source": [
    "train_df.describe()"
   ]
  },
  {
   "cell_type": "code",
   "execution_count": 5,
   "id": "6510e44a-6a86-4f09-9953-635309a73d56",
   "metadata": {},
   "outputs": [
    {
     "data": {
      "text/plain": [
       "['Age', 'Cabin', 'Embarked']"
      ]
     },
     "execution_count": 5,
     "metadata": {},
     "output_type": "execute_result"
    }
   ],
   "source": [
    "nan_columns = train_df.columns[train_df.isnull().any()].tolist()\n",
    "nan_columns"
   ]
  },
  {
   "cell_type": "code",
   "execution_count": 6,
   "id": "8070a365-bd6c-4d1e-8337-c6b0d385e22e",
   "metadata": {},
   "outputs": [
    {
     "name": "stdout",
     "output_type": "stream",
     "text": [
      "% of null values in Age: 19.865\n",
      "% of null values in Cabin: 77.104\n",
      "% of null values in Embarked: 0.224\n"
     ]
    }
   ],
   "source": [
    "for column in nan_columns:    \n",
    "    print(f\"% of null values in {column}: \"\n",
    "          f\"{round(train_df[column].isnull().sum()/len(train_df[column])*100, 3)}\")"
   ]
  },
  {
   "cell_type": "code",
   "execution_count": 7,
   "id": "e81dbc62-ceb1-4638-b48b-ff23433bfac9",
   "metadata": {},
   "outputs": [],
   "source": [
    "from sklearn.model_selection import train_test_split\n",
    "\n",
    "X_train, X_test, y_train, y_test = train_test_split(train_df.drop(columns='Survived'), \n",
    "                                                    train_df['Survived'],\n",
    "                                                    test_size=0.3,\n",
    "                                                    random_state=1234)"
   ]
  },
  {
   "cell_type": "code",
   "execution_count": 8,
   "id": "3f2fbe29-4b93-44a9-b3a2-e00651a99d1e",
   "metadata": {},
   "outputs": [],
   "source": [
    "from sklearn.model_selection import StratifiedKFold\n",
    "\n",
    "seed=1234\n",
    "kfold = StratifiedKFold(n_splits=5)"
   ]
  },
  {
   "cell_type": "code",
   "execution_count": 9,
   "id": "c4c62b44-b033-45e8-b52c-74f351c75c8d",
   "metadata": {},
   "outputs": [],
   "source": [
    "sex_dict = {'female': 1, 'male': 0}"
   ]
  },
  {
   "cell_type": "code",
   "execution_count": 10,
   "id": "6312709c-87f4-4a85-87ca-4cde033c1c20",
   "metadata": {},
   "outputs": [],
   "source": [
    "X_train_filtered = X_train[['Pclass', 'Fare', 'Age', 'SibSp', 'Parch', 'Sex']]\n",
    "X_train_filtered = X_train_filtered.replace(sex_dict)"
   ]
  },
  {
   "cell_type": "code",
   "execution_count": 11,
   "id": "ba0365fb-cffc-4aa4-8b32-779f848fd53c",
   "metadata": {},
   "outputs": [],
   "source": [
    "from sklearn.impute import SimpleImputer\n",
    "\n",
    "imp = SimpleImputer(missing_values=np.nan, strategy='mean')\n",
    "X_train_filtered = imp.fit_transform(X_train_filtered)"
   ]
  },
  {
   "cell_type": "code",
   "execution_count": 12,
   "id": "b736084c-da87-46fa-8444-65fb7f666b9e",
   "metadata": {},
   "outputs": [],
   "source": [
    "X_test_filtered = X_test[['Pclass', 'Fare', 'Age', 'SibSp', 'Parch', 'Sex']]\n",
    "X_test_filtered = X_test_filtered.replace(sex_dict)\n",
    "X_test_filtered = imp.fit_transform(X_test_filtered)"
   ]
  },
  {
   "cell_type": "code",
   "execution_count": 16,
   "id": "c7125750-1171-4529-8174-eb5c9c065318",
   "metadata": {},
   "outputs": [
    {
     "name": "stdout",
     "output_type": "stream",
     "text": [
      "R^2: 0.7976190476190477\n",
      "Recall_score: 0.6568627450980392\n"
     ]
    }
   ],
   "source": [
    "from sklearn.model_selection import GridSearchCV\n",
    "from sklearn.preprocessing import StandardScaler\n",
    "from sklearn.pipeline import Pipeline\n",
    "from sklearn.svm import SVC\n",
    "from sklearn.model_selection import GridSearchCV, cross_val_predict\n",
    "from sklearn import  metrics\n",
    "\n",
    "\n",
    "models = []\n",
    "\n",
    "pipe = Pipeline([('preprocessing', StandardScaler()), ('classifier', SVC())])\n",
    "\n",
    "param_grid = {\n",
    "            'preprocessing': [StandardScaler(), None],\n",
    "            'classifier__gamma': [0.001, 0.01, 0.1, 1, 10, 100],\n",
    "            'classifier__C': [0.001, 0.01, 0.1, 1, 10, 100]\n",
    "}\n",
    "\n",
    "grid_1 = GridSearchCV(pipe, param_grid, cv=kfold, return_train_score=True)\n",
    "\n",
    "grid_1.fit(X_train_filtered, y_train)\n",
    "grid_1.best_params_\n",
    "\n",
    "y_test_pred = cross_val_predict(grid_1.best_estimator_, X_test_filtered, y_test, cv=3)\n",
    "print(f\"R^2: {metrics.precision_score(y_test, y_test_pred)}\") \n",
    "print(f\"Recall_score: {metrics.recall_score(y_test, y_test_pred)}\") "
   ]
  },
  {
   "cell_type": "code",
   "execution_count": 17,
   "id": "ffbdfe9c-6c06-43e1-b134-9f5813faa691",
   "metadata": {},
   "outputs": [],
   "source": [
    "from sklearn.linear_model import LogisticRegression\n",
    "\n",
    "log_reg = LogisticRegression(random_state=42)\n",
    "log_reg.fit(X_train_filtered, y_train)\n",
    "models.append(log_reg)"
   ]
  },
  {
   "cell_type": "code",
   "execution_count": 19,
   "id": "cae6c0b9-2e7e-4ad6-9882-61a3deb6e12b",
   "metadata": {},
   "outputs": [
    {
     "name": "stdout",
     "output_type": "stream",
     "text": [
      "R^2: 0.813953488372093\n",
      "Recall_score: 0.6862745098039216\n"
     ]
    }
   ],
   "source": [
    "y_test_pred = cross_val_predict(log_reg, X_test_filtered, y_test, cv=3)\n",
    "print(f\"R^2: {metrics.precision_score(y_test, y_test_pred)}\") \n",
    "print(f\"Recall_score: {metrics.recall_score(y_test, y_test_pred)}\") "
   ]
  },
  {
   "cell_type": "code",
   "execution_count": 20,
   "id": "bbc7053b-d21d-4b3d-a66f-689e50ad6c53",
   "metadata": {},
   "outputs": [
    {
     "name": "stdout",
     "output_type": "stream",
     "text": [
      "R^2: 0.7701149425287356\n",
      "recall_score: 0.6568627450980392\n"
     ]
    }
   ],
   "source": [
    "from sklearn.ensemble import RandomForestClassifier\n",
    "\n",
    "random_forest = RandomForestClassifier(n_estimators=1000)\n",
    "random_forest.fit(X_train_filtered, y_train)\n",
    "\n",
    "Y_prediction = random_forest.predict(X_test_filtered)\n",
    "\n",
    "print(\"R^2: {}\".format(metrics.precision_score(y_test, random_forest.predict(X_test_filtered)) ))\n",
    "print(\"recall_score: {}\".format( metrics.recall_score(y_test, random_forest.predict(X_test_filtered)) ))"
   ]
  },
  {
   "cell_type": "code",
   "execution_count": 21,
   "id": "29d0a43f-fe2e-48fe-be84-1d4892b08aed",
   "metadata": {},
   "outputs": [
    {
     "name": "stdout",
     "output_type": "stream",
     "text": [
      "R^2: 0.7948717948717948\n",
      "recall_score: 0.6078431372549019\n"
     ]
    }
   ],
   "source": [
    "from sklearn.ensemble import AdaBoostClassifier\n",
    "from sklearn.tree import DecisionTreeClassifier\n",
    "\n",
    "ada_clf = AdaBoostClassifier(\n",
    "    DecisionTreeClassifier(max_depth=10), \n",
    "    n_estimators=1, learning_rate=0.5, \n",
    "    algorithm=\"SAMME.R\", random_state=42)\n",
    "ada_clf.fit(X_train_filtered, y_train)\n",
    "print(\"R^2: {}\".format(metrics.precision_score(y_test, ada_clf.predict(X_test_filtered)) ))\n",
    "print(\"recall_score: {}\".format( metrics.recall_score(y_test, ada_clf.predict(X_test_filtered)) ))"
   ]
  },
  {
   "cell_type": "code",
   "execution_count": 28,
   "id": "d0d5b48a-7e13-4081-b1a1-33882e9b3be8",
   "metadata": {},
   "outputs": [
    {
     "name": "stdout",
     "output_type": "stream",
     "text": [
      "Epoch 1/100\n",
      "20/20 [==============================] - 1s 11ms/step - loss: 0.8693 - accuracy: 0.6501 - val_loss: 0.7158 - val_accuracy: 0.6157\n",
      "Epoch 2/100\n",
      "20/20 [==============================] - 0s 4ms/step - loss: 0.6834 - accuracy: 0.6693 - val_loss: 0.6543 - val_accuracy: 0.6418\n",
      "Epoch 3/100\n",
      "20/20 [==============================] - 0s 4ms/step - loss: 0.5910 - accuracy: 0.7079 - val_loss: 0.6210 - val_accuracy: 0.6418\n",
      "Epoch 4/100\n",
      "20/20 [==============================] - 0s 4ms/step - loss: 0.5826 - accuracy: 0.7239 - val_loss: 0.6443 - val_accuracy: 0.6791\n",
      "Epoch 5/100\n",
      "20/20 [==============================] - 0s 4ms/step - loss: 0.5636 - accuracy: 0.7127 - val_loss: 0.6967 - val_accuracy: 0.6493\n",
      "Epoch 6/100\n",
      "20/20 [==============================] - 0s 5ms/step - loss: 0.5761 - accuracy: 0.7287 - val_loss: 0.7046 - val_accuracy: 0.6194\n",
      "Epoch 7/100\n",
      "20/20 [==============================] - 0s 4ms/step - loss: 0.5577 - accuracy: 0.7303 - val_loss: 0.6266 - val_accuracy: 0.6642\n",
      "Epoch 8/100\n",
      "20/20 [==============================] - 0s 4ms/step - loss: 0.5800 - accuracy: 0.7143 - val_loss: 0.7764 - val_accuracy: 0.6493\n",
      "Epoch 9/100\n",
      "20/20 [==============================] - 0s 4ms/step - loss: 0.6018 - accuracy: 0.7127 - val_loss: 0.6339 - val_accuracy: 0.6866\n",
      "Epoch 10/100\n",
      "20/20 [==============================] - 0s 5ms/step - loss: 0.5516 - accuracy: 0.7368 - val_loss: 0.5762 - val_accuracy: 0.7201\n",
      "Epoch 11/100\n",
      "20/20 [==============================] - 0s 4ms/step - loss: 0.5586 - accuracy: 0.7239 - val_loss: 0.5690 - val_accuracy: 0.7015\n",
      "Epoch 12/100\n",
      "20/20 [==============================] - 0s 4ms/step - loss: 0.5171 - accuracy: 0.7400 - val_loss: 0.5873 - val_accuracy: 0.6940\n",
      "Epoch 13/100\n",
      "20/20 [==============================] - 0s 5ms/step - loss: 0.5047 - accuracy: 0.7673 - val_loss: 0.6166 - val_accuracy: 0.7575\n",
      "Epoch 14/100\n",
      "20/20 [==============================] - 0s 4ms/step - loss: 0.5194 - accuracy: 0.7673 - val_loss: 0.5417 - val_accuracy: 0.7164\n",
      "Epoch 15/100\n",
      "20/20 [==============================] - 0s 4ms/step - loss: 0.4905 - accuracy: 0.7624 - val_loss: 0.5544 - val_accuracy: 0.7164\n",
      "Epoch 16/100\n",
      "20/20 [==============================] - 0s 4ms/step - loss: 0.4883 - accuracy: 0.7833 - val_loss: 0.6000 - val_accuracy: 0.7649\n",
      "Epoch 17/100\n",
      "20/20 [==============================] - 0s 4ms/step - loss: 0.4851 - accuracy: 0.7737 - val_loss: 0.5122 - val_accuracy: 0.7910\n",
      "Epoch 18/100\n",
      "20/20 [==============================] - 0s 5ms/step - loss: 0.5171 - accuracy: 0.7512 - val_loss: 0.5557 - val_accuracy: 0.7090\n",
      "Epoch 19/100\n",
      "20/20 [==============================] - 0s 4ms/step - loss: 0.4692 - accuracy: 0.7785 - val_loss: 0.5214 - val_accuracy: 0.7649\n",
      "Epoch 20/100\n",
      "20/20 [==============================] - 0s 4ms/step - loss: 0.4466 - accuracy: 0.7833 - val_loss: 0.5217 - val_accuracy: 0.7836\n",
      "Epoch 21/100\n",
      "20/20 [==============================] - 0s 4ms/step - loss: 0.4344 - accuracy: 0.7945 - val_loss: 0.5006 - val_accuracy: 0.7873\n",
      "Epoch 22/100\n",
      "20/20 [==============================] - 0s 4ms/step - loss: 0.4564 - accuracy: 0.7961 - val_loss: 0.5346 - val_accuracy: 0.7313\n",
      "Epoch 23/100\n",
      "20/20 [==============================] - 0s 4ms/step - loss: 0.4569 - accuracy: 0.7833 - val_loss: 0.4771 - val_accuracy: 0.7910\n",
      "Epoch 24/100\n",
      "20/20 [==============================] - 0s 4ms/step - loss: 0.4407 - accuracy: 0.8042 - val_loss: 0.5417 - val_accuracy: 0.7425\n",
      "Epoch 25/100\n",
      "20/20 [==============================] - 0s 4ms/step - loss: 0.4414 - accuracy: 0.7945 - val_loss: 0.4806 - val_accuracy: 0.7873\n",
      "Epoch 26/100\n",
      "20/20 [==============================] - 0s 4ms/step - loss: 0.4290 - accuracy: 0.8042 - val_loss: 0.4788 - val_accuracy: 0.7761\n",
      "Epoch 27/100\n",
      "20/20 [==============================] - 0s 5ms/step - loss: 0.4321 - accuracy: 0.7913 - val_loss: 0.5066 - val_accuracy: 0.7649\n",
      "Epoch 28/100\n",
      "20/20 [==============================] - 0s 5ms/step - loss: 0.4242 - accuracy: 0.8026 - val_loss: 0.5241 - val_accuracy: 0.7799\n",
      "Epoch 29/100\n",
      "20/20 [==============================] - 0s 4ms/step - loss: 0.4406 - accuracy: 0.8042 - val_loss: 0.5196 - val_accuracy: 0.7948\n",
      "Epoch 30/100\n",
      "20/20 [==============================] - 0s 4ms/step - loss: 0.4327 - accuracy: 0.8042 - val_loss: 0.5071 - val_accuracy: 0.7985\n",
      "Epoch 31/100\n",
      "20/20 [==============================] - 0s 4ms/step - loss: 0.4296 - accuracy: 0.8218 - val_loss: 0.4794 - val_accuracy: 0.7836\n",
      "Epoch 32/100\n",
      "20/20 [==============================] - 0s 4ms/step - loss: 0.4109 - accuracy: 0.8186 - val_loss: 0.4766 - val_accuracy: 0.7612\n",
      "Epoch 33/100\n",
      "20/20 [==============================] - 0s 4ms/step - loss: 0.4225 - accuracy: 0.7945 - val_loss: 0.4677 - val_accuracy: 0.8172\n",
      "Epoch 34/100\n",
      "20/20 [==============================] - 0s 4ms/step - loss: 0.4087 - accuracy: 0.8154 - val_loss: 0.5006 - val_accuracy: 0.7985\n",
      "Epoch 35/100\n",
      "20/20 [==============================] - 0s 4ms/step - loss: 0.4313 - accuracy: 0.8058 - val_loss: 0.5098 - val_accuracy: 0.8022\n",
      "Epoch 36/100\n",
      "20/20 [==============================] - 0s 4ms/step - loss: 0.4200 - accuracy: 0.8074 - val_loss: 0.4973 - val_accuracy: 0.7985\n",
      "Epoch 37/100\n",
      "20/20 [==============================] - 0s 4ms/step - loss: 0.4060 - accuracy: 0.8154 - val_loss: 0.4544 - val_accuracy: 0.8097\n",
      "Epoch 38/100\n",
      "20/20 [==============================] - 0s 4ms/step - loss: 0.4173 - accuracy: 0.8250 - val_loss: 0.4834 - val_accuracy: 0.8246\n",
      "Epoch 39/100\n",
      "20/20 [==============================] - 0s 4ms/step - loss: 0.4119 - accuracy: 0.8186 - val_loss: 0.5061 - val_accuracy: 0.7612\n",
      "Epoch 40/100\n",
      "20/20 [==============================] - 0s 4ms/step - loss: 0.3985 - accuracy: 0.8090 - val_loss: 0.4575 - val_accuracy: 0.8172\n",
      "Epoch 41/100\n",
      "20/20 [==============================] - 0s 4ms/step - loss: 0.3927 - accuracy: 0.8283 - val_loss: 0.5385 - val_accuracy: 0.7724\n",
      "Epoch 42/100\n",
      "20/20 [==============================] - 0s 4ms/step - loss: 0.4421 - accuracy: 0.7897 - val_loss: 0.6653 - val_accuracy: 0.7127\n",
      "Epoch 43/100\n",
      "20/20 [==============================] - 0s 4ms/step - loss: 0.4836 - accuracy: 0.7753 - val_loss: 0.5039 - val_accuracy: 0.7612\n",
      "Epoch 44/100\n",
      "20/20 [==============================] - 0s 4ms/step - loss: 0.4127 - accuracy: 0.8090 - val_loss: 0.4685 - val_accuracy: 0.7985\n",
      "Epoch 45/100\n",
      "20/20 [==============================] - 0s 4ms/step - loss: 0.4178 - accuracy: 0.8058 - val_loss: 0.4857 - val_accuracy: 0.7910\n",
      "Epoch 46/100\n",
      "20/20 [==============================] - 0s 4ms/step - loss: 0.4120 - accuracy: 0.8122 - val_loss: 0.4579 - val_accuracy: 0.7910\n",
      "Epoch 47/100\n",
      "20/20 [==============================] - 0s 5ms/step - loss: 0.4028 - accuracy: 0.8170 - val_loss: 0.5211 - val_accuracy: 0.8060\n",
      "Epoch 48/100\n",
      "20/20 [==============================] - 0s 4ms/step - loss: 0.3980 - accuracy: 0.8202 - val_loss: 0.4627 - val_accuracy: 0.7910\n",
      "Epoch 49/100\n",
      "20/20 [==============================] - 0s 4ms/step - loss: 0.3844 - accuracy: 0.8122 - val_loss: 0.4987 - val_accuracy: 0.7873\n",
      "Epoch 50/100\n",
      "20/20 [==============================] - 0s 5ms/step - loss: 0.3906 - accuracy: 0.8122 - val_loss: 0.4988 - val_accuracy: 0.7873\n",
      "Epoch 51/100\n",
      "20/20 [==============================] - 0s 5ms/step - loss: 0.4051 - accuracy: 0.8154 - val_loss: 0.4764 - val_accuracy: 0.7985\n",
      "Epoch 52/100\n",
      "20/20 [==============================] - 0s 4ms/step - loss: 0.3892 - accuracy: 0.8234 - val_loss: 0.4967 - val_accuracy: 0.7873\n",
      "Epoch 53/100\n",
      "20/20 [==============================] - 0s 5ms/step - loss: 0.3840 - accuracy: 0.8138 - val_loss: 0.4656 - val_accuracy: 0.7910\n",
      "Epoch 54/100\n",
      "20/20 [==============================] - 0s 4ms/step - loss: 0.4018 - accuracy: 0.8218 - val_loss: 0.4871 - val_accuracy: 0.7948\n",
      "Epoch 55/100\n",
      "20/20 [==============================] - 0s 5ms/step - loss: 0.3964 - accuracy: 0.8363 - val_loss: 0.4946 - val_accuracy: 0.7910\n",
      "Epoch 56/100\n",
      "20/20 [==============================] - 0s 4ms/step - loss: 0.3856 - accuracy: 0.8170 - val_loss: 0.4820 - val_accuracy: 0.7985\n",
      "Epoch 57/100\n",
      "20/20 [==============================] - 0s 4ms/step - loss: 0.3884 - accuracy: 0.8170 - val_loss: 0.5196 - val_accuracy: 0.7649\n",
      "Epoch 58/100\n",
      "20/20 [==============================] - 0s 5ms/step - loss: 0.4041 - accuracy: 0.8266 - val_loss: 0.4759 - val_accuracy: 0.7985\n",
      "Epoch 59/100\n",
      "20/20 [==============================] - 0s 4ms/step - loss: 0.3862 - accuracy: 0.8186 - val_loss: 0.4796 - val_accuracy: 0.8060\n",
      "Epoch 60/100\n",
      "20/20 [==============================] - 0s 4ms/step - loss: 0.3839 - accuracy: 0.8074 - val_loss: 0.4913 - val_accuracy: 0.8097\n",
      "Epoch 61/100\n",
      "20/20 [==============================] - 0s 4ms/step - loss: 0.3946 - accuracy: 0.8218 - val_loss: 0.5540 - val_accuracy: 0.7761\n",
      "Epoch 62/100\n",
      "20/20 [==============================] - 0s 4ms/step - loss: 0.4014 - accuracy: 0.8202 - val_loss: 0.4758 - val_accuracy: 0.8209\n",
      "Epoch 63/100\n",
      "20/20 [==============================] - 0s 5ms/step - loss: 0.4065 - accuracy: 0.8186 - val_loss: 0.4824 - val_accuracy: 0.8022\n",
      "Epoch 64/100\n",
      "20/20 [==============================] - 0s 4ms/step - loss: 0.3985 - accuracy: 0.8283 - val_loss: 0.4740 - val_accuracy: 0.7948\n",
      "Epoch 65/100\n",
      "20/20 [==============================] - 0s 4ms/step - loss: 0.3859 - accuracy: 0.8170 - val_loss: 0.4885 - val_accuracy: 0.8284\n",
      "Epoch 66/100\n",
      "20/20 [==============================] - 0s 5ms/step - loss: 0.3958 - accuracy: 0.8202 - val_loss: 0.4829 - val_accuracy: 0.8209\n",
      "Epoch 67/100\n",
      "20/20 [==============================] - 0s 4ms/step - loss: 0.3986 - accuracy: 0.8283 - val_loss: 0.5028 - val_accuracy: 0.7910\n",
      "Epoch 68/100\n",
      "20/20 [==============================] - 0s 4ms/step - loss: 0.4015 - accuracy: 0.8042 - val_loss: 0.5020 - val_accuracy: 0.8060\n",
      "Epoch 69/100\n",
      "20/20 [==============================] - 0s 4ms/step - loss: 0.3763 - accuracy: 0.8138 - val_loss: 0.4951 - val_accuracy: 0.8097\n",
      "Epoch 70/100\n",
      "20/20 [==============================] - 0s 4ms/step - loss: 0.3793 - accuracy: 0.8283 - val_loss: 0.5006 - val_accuracy: 0.8172\n",
      "Epoch 71/100\n",
      "20/20 [==============================] - 0s 6ms/step - loss: 0.3703 - accuracy: 0.8170 - val_loss: 0.4850 - val_accuracy: 0.8246\n",
      "Epoch 72/100\n",
      "20/20 [==============================] - 0s 4ms/step - loss: 0.3768 - accuracy: 0.8186 - val_loss: 0.4964 - val_accuracy: 0.8209\n",
      "Epoch 73/100\n",
      "20/20 [==============================] - 0s 4ms/step - loss: 0.3751 - accuracy: 0.8283 - val_loss: 0.4812 - val_accuracy: 0.8097\n",
      "Epoch 74/100\n",
      "20/20 [==============================] - 0s 4ms/step - loss: 0.3757 - accuracy: 0.8186 - val_loss: 0.4861 - val_accuracy: 0.8134\n",
      "Epoch 75/100\n",
      "20/20 [==============================] - 0s 4ms/step - loss: 0.3723 - accuracy: 0.8250 - val_loss: 0.4949 - val_accuracy: 0.8097\n",
      "Epoch 76/100\n",
      "20/20 [==============================] - 0s 5ms/step - loss: 0.3765 - accuracy: 0.8154 - val_loss: 0.5299 - val_accuracy: 0.7761\n",
      "Epoch 77/100\n",
      "20/20 [==============================] - 0s 5ms/step - loss: 0.3724 - accuracy: 0.8299 - val_loss: 0.5376 - val_accuracy: 0.7910\n",
      "Epoch 78/100\n",
      "20/20 [==============================] - 0s 4ms/step - loss: 0.3839 - accuracy: 0.8122 - val_loss: 0.4974 - val_accuracy: 0.8134\n",
      "Epoch 79/100\n",
      "20/20 [==============================] - 0s 4ms/step - loss: 0.3803 - accuracy: 0.8266 - val_loss: 0.5198 - val_accuracy: 0.8097\n",
      "Epoch 80/100\n",
      "20/20 [==============================] - 0s 4ms/step - loss: 0.3734 - accuracy: 0.8234 - val_loss: 0.5084 - val_accuracy: 0.8060\n",
      "Epoch 81/100\n",
      "20/20 [==============================] - 0s 4ms/step - loss: 0.3758 - accuracy: 0.8283 - val_loss: 0.5049 - val_accuracy: 0.8209\n",
      "Epoch 82/100\n",
      "20/20 [==============================] - 0s 4ms/step - loss: 0.3737 - accuracy: 0.8331 - val_loss: 0.5421 - val_accuracy: 0.8022\n",
      "Epoch 83/100\n",
      "20/20 [==============================] - 0s 4ms/step - loss: 0.3749 - accuracy: 0.8315 - val_loss: 0.5194 - val_accuracy: 0.8060\n",
      "Epoch 84/100\n",
      "20/20 [==============================] - 0s 4ms/step - loss: 0.3673 - accuracy: 0.8234 - val_loss: 0.5057 - val_accuracy: 0.8060\n",
      "Epoch 85/100\n",
      "20/20 [==============================] - 0s 4ms/step - loss: 0.3694 - accuracy: 0.8218 - val_loss: 0.5159 - val_accuracy: 0.8022\n",
      "Epoch 86/100\n",
      "20/20 [==============================] - 0s 4ms/step - loss: 0.3956 - accuracy: 0.8138 - val_loss: 0.5102 - val_accuracy: 0.8172\n",
      "Epoch 87/100\n",
      "20/20 [==============================] - 0s 4ms/step - loss: 0.3753 - accuracy: 0.8250 - val_loss: 0.4995 - val_accuracy: 0.8246\n",
      "Epoch 88/100\n",
      "20/20 [==============================] - 0s 4ms/step - loss: 0.3758 - accuracy: 0.8202 - val_loss: 0.5077 - val_accuracy: 0.8134\n",
      "Epoch 89/100\n",
      "20/20 [==============================] - 0s 4ms/step - loss: 0.3658 - accuracy: 0.8315 - val_loss: 0.5194 - val_accuracy: 0.8172\n",
      "Epoch 90/100\n",
      "20/20 [==============================] - 0s 4ms/step - loss: 0.3633 - accuracy: 0.8283 - val_loss: 0.4922 - val_accuracy: 0.8321\n",
      "Epoch 91/100\n",
      "20/20 [==============================] - 0s 4ms/step - loss: 0.3681 - accuracy: 0.8315 - val_loss: 0.5265 - val_accuracy: 0.8022\n",
      "Epoch 92/100\n",
      "20/20 [==============================] - 0s 5ms/step - loss: 0.3701 - accuracy: 0.8266 - val_loss: 0.5023 - val_accuracy: 0.8284\n",
      "Epoch 93/100\n",
      "20/20 [==============================] - 0s 4ms/step - loss: 0.3752 - accuracy: 0.8315 - val_loss: 0.5020 - val_accuracy: 0.8209\n",
      "Epoch 94/100\n",
      "20/20 [==============================] - 0s 4ms/step - loss: 0.3626 - accuracy: 0.8379 - val_loss: 0.5284 - val_accuracy: 0.8172\n",
      "Epoch 95/100\n",
      "20/20 [==============================] - 0s 4ms/step - loss: 0.3636 - accuracy: 0.8331 - val_loss: 0.5082 - val_accuracy: 0.8321\n",
      "Epoch 96/100\n",
      "20/20 [==============================] - 0s 4ms/step - loss: 0.3521 - accuracy: 0.8266 - val_loss: 0.5187 - val_accuracy: 0.8172\n",
      "Epoch 97/100\n",
      "20/20 [==============================] - 0s 5ms/step - loss: 0.3508 - accuracy: 0.8427 - val_loss: 0.5246 - val_accuracy: 0.8209\n",
      "Epoch 98/100\n",
      "20/20 [==============================] - 0s 4ms/step - loss: 0.3643 - accuracy: 0.8379 - val_loss: 0.5356 - val_accuracy: 0.8246\n",
      "Epoch 99/100\n",
      "20/20 [==============================] - 0s 4ms/step - loss: 0.3612 - accuracy: 0.8315 - val_loss: 0.5333 - val_accuracy: 0.8246\n",
      "Epoch 100/100\n",
      "20/20 [==============================] - 0s 4ms/step - loss: 0.3581 - accuracy: 0.8186 - val_loss: 0.5178 - val_accuracy: 0.8209\n"
     ]
    }
   ],
   "source": [
    "from keras.models import Sequential\n",
    "from keras.layers import Dense\n",
    "from keras.callbacks import History\n",
    "\n",
    "history = History()\n",
    "model = keras.models.Sequential([\n",
    "    keras.layers.Dense(300, activation=\"relu\", input_shape=(X_train_filtered.shape[1],)),\n",
    "    keras.layers.Dense(200, activation=\"swish\"),\n",
    "    keras.layers.Dense(100, activation=\"elu\"),\n",
    "    keras.layers.Dense(50, activation=\"elu\"),\n",
    "    keras.layers.Dense(1, activation=\"sigmoid\")\n",
    "])\n",
    "\n",
    "model.compile(loss=\"binary_crossentropy\", optimizer=\"Adam\", metrics=[\"accuracy\"])\n",
    "history = model.fit(X_train_filtered, y_train, validation_data= (X_test_filtered, y_test), epochs=100)"
   ]
  },
  {
   "cell_type": "markdown",
   "id": "f28f9b2f-8b2e-4fa8-9f5d-dc8e3408a13e",
   "metadata": {},
   "source": [
    "Ostatecznie wybrałam model na sieci z kerasa."
   ]
  },
  {
   "cell_type": "code",
   "execution_count": 29,
   "id": "a804bfc4-6042-4a96-a7bf-961661b5b5bf",
   "metadata": {},
   "outputs": [],
   "source": [
    "test_df = pd.read_csv(\"test.csv\")\n",
    "test = test_df[['Pclass', 'Fare', 'Age', 'SibSp', 'Parch', 'Sex']]\n",
    "test = test.replace(sex_dict)\n",
    "test = imp.fit_transform(test)"
   ]
  },
  {
   "cell_type": "code",
   "execution_count": 30,
   "id": "00d86c12-68fa-4a29-a59b-734510d62616",
   "metadata": {},
   "outputs": [
    {
     "name": "stdout",
     "output_type": "stream",
     "text": [
      "14/14 [==============================] - 0s 1ms/step\n"
     ]
    }
   ],
   "source": [
    "y_prob = model.predict(test) "
   ]
  },
  {
   "cell_type": "code",
   "execution_count": 31,
   "id": "7a76b7b4-21a6-46dd-968c-eeeaa1c2a20b",
   "metadata": {},
   "outputs": [],
   "source": [
    "y_classes = abs(y_prob.round()).astype('int').squeeze()"
   ]
  },
  {
   "cell_type": "code",
   "execution_count": 32,
   "id": "2cd9c5d2-0196-4ef2-8ca2-e617b1dc465e",
   "metadata": {},
   "outputs": [],
   "source": [
    "output = pd.DataFrame({'PassengerId': test_df['PassengerId'], 'Survived': y_classes})"
   ]
  },
  {
   "cell_type": "code",
   "execution_count": 33,
   "id": "c663a67e-4ded-4145-95a8-ce00a50d4d4f",
   "metadata": {},
   "outputs": [],
   "source": [
    "output.to_csv('results.csv', index=False)"
   ]
  }
 ],
 "metadata": {
  "kernelspec": {
   "display_name": "Python 3 (ipykernel)",
   "language": "python",
   "name": "python3"
  },
  "language_info": {
   "codemirror_mode": {
    "name": "ipython",
    "version": 3
   },
   "file_extension": ".py",
   "mimetype": "text/x-python",
   "name": "python",
   "nbconvert_exporter": "python",
   "pygments_lexer": "ipython3",
   "version": "3.9.5"
  }
 },
 "nbformat": 4,
 "nbformat_minor": 5
}
